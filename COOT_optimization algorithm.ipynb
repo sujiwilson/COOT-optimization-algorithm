{
  "nbformat": 4,
  "nbformat_minor": 0,
  "metadata": {
    "colab": {
      "name": "COOT_finalcode11.ipynb",
      "provenance": [],
      "collapsed_sections": []
    },
    "kernelspec": {
      "name": "python3",
      "display_name": "Python 3"
    },
    "language_info": {
      "name": "python"
    }
  },
  "cells": [
    {
      "cell_type": "code",
      "source": [
        "import time\n",
        "import numpy as np\n",
        "rng = np.random.default_rng()\n",
        "from numpy import random\n",
        "import math\n",
        "from numpy import inf"
      ],
      "metadata": {
        "id": "0P7LXK6j56T0"
      },
      "execution_count": 1,
      "outputs": []
    },
    {
      "cell_type": "code",
      "source": [
        "def fun(X):\n",
        "    output = sum(np.square(X))\n",
        "    return output"
      ],
      "metadata": {
        "id": "3TvM9UmS5ztc"
      },
      "execution_count": 2,
      "outputs": []
    },
    {
      "cell_type": "code",
      "execution_count": 3,
      "metadata": {
        "id": "ENFsloAW5Zw-"
      },
      "outputs": [],
      "source": [
        "def COOT(N,Max_iter,lb,ub,dim,fobj):\n",
        "    NLeader=math.ceil(0.1*N)\n",
        "    Ncoot=N-NLeader\n",
        "    Convergence_curve = np.zeros([Max_iter,1])\n",
        "    gBest=np.zeros([1,dim])\n",
        "    gBestScore=inf\n",
        "#Initialize the positions of Coots\n",
        "    CootPos=np.multiply(random.rand(Ncoot,dim),(ub-lb))+lb\n",
        "    CootFitness=np.zeros([1,Ncoot])\n",
        "#Initialize the locations of Leaders\n",
        "    LeaderPos=np.multiply(random.rand(NLeader,dim),(ub-lb))+lb\n",
        "    LeaderFit=np.zeros([1,NLeader])\n",
        "  # CootFitness\n",
        "    for i in range(np.size(CootPos,0)):\n",
        "      CootFitness[0,i]=fobj(CootPos[i,:])\n",
        "      if gBestScore>CootFitness[0,i]:\n",
        "        gBestScore=CootFitness[0,i]\n",
        "        gBest=CootPos[i,:]\n",
        "\n",
        "  # LeaderFitness\n",
        "    for i in range(np.size(LeaderPos,0)):  \n",
        "      LeaderFit[0,i]=fobj(LeaderPos[i,:])\n",
        "      if(gBestScore>LeaderFit[0,i]):\n",
        "          gBestScore=LeaderFit[0,i]\n",
        "          gBest=LeaderPos[i,:]\n",
        "\n",
        "\n",
        "    Convergence_curve[0]=gBestScore\n",
        "# Loop counter\n",
        "    for l in range(Max_iter):\n",
        "\n",
        "      B=2-l*(1/Max_iter)\n",
        "      A=1-l*(1/Max_iter)\n",
        "      for i in range(np.size(CootPos,0)): \n",
        "        if random.rand()<0.5:\n",
        "          R=-1+2*random.rand()\n",
        "          R1=random.rand();\n",
        "        else:  \n",
        "          R=-1+2*random.rand(1,dim)\n",
        "          R1=random.rand(1,dim)\n",
        "\n",
        "        k=math.fmod(i,NLeader)\n",
        "        k=math.floor(k)\n",
        "        if random.rand()<0.5:\n",
        "          r1=2*np.multiply(R1,np.cos(2*math.pi*R))           #|| i==1\n",
        "          CootPos[i,:]=np.multiply(r1,(LeaderPos[k,:]-CootPos[i,:]))+LeaderPos[k,:]\n",
        "             # Check boundries\n",
        "          Tp=CootPos[i,:]>ub\n",
        "          Tm=CootPos[i,:]<lb\n",
        "          CootPos[i,:]=np.multiply(CootPos[i,:],(~(Tp+Tm)))+np.multiply(ub,Tp)+np.multiply(lb,Tm)\n",
        "        else:\n",
        "              if random.rand()<0.5 and not i==1:      #i>2*size(CootPos,1)/3%\n",
        "                CootPos[i,:]=(CootPos[i,:]+CootPos[i-1,:])/2\n",
        "              else:\n",
        "                Q=np.multiply(random.rand(1,dim),(ub-lb))+lb\n",
        "        #                 R1=0.2+ 0.6*rand;                \n",
        "                CootPos[i,:]=CootPos[i,:]+A*np.multiply(R1,(Q-CootPos[i,:]))               \n",
        "\n",
        "                Tp=CootPos[i,:]>ub\n",
        "                Tm=CootPos[i,:]<lb\n",
        "                CootPos[i,:]=np.multiply(CootPos[i,:],(~(Tp+Tm)))+np.multiply(ub,Tp)+np.multiply(lb,Tm)  \n",
        "\n",
        "\n",
        "        # fitness of location of Coots\n",
        "      for i in range(np.size(CootPos,0)):\n",
        "        CootFitness[0,i]=fobj(CootPos[i,:])\n",
        "        k=math.fmod(i,NLeader)\n",
        "        k=math.floor(k) \n",
        "        # Update the location of coot\n",
        "        if CootFitness[0,i]<LeaderFit[0,k]:\n",
        "          Temp=LeaderPos[k,:]\n",
        "          TemFit= LeaderFit[0,k]\n",
        "          LeaderFit[0,k]= CootFitness[0,i]\n",
        "          LeaderPos[k,:]=CootPos[i,:]\n",
        "          CootFitness[0,i]=TemFit\n",
        "          CootPos[i,:]=Temp      \n",
        "\n",
        "\n",
        "        # fitness of location of Leaders\n",
        "      for i in range(np.size(LeaderPos,0)):\n",
        "                if random.rand()<0.5:\n",
        "                  R=-1+2*random.rand()\n",
        "                  R3=random.rand()\n",
        "                else:  \n",
        "                  R=-1+2*random.rand(1,dim)\n",
        "                  R3=random.rand(1,dim)\n",
        "\n",
        "                if random.rand()<0.5:\n",
        "                  r2=B*np.multiply(R3,np.cos(2*math.pi*R))           \n",
        "                  Temp=np.multiply(r2,(gBest-LeaderPos[i,:]))+gBest           \n",
        "                else:    \n",
        "                  r2=B*np.multiply(R3,np.cos(2*math.pi*R))       \n",
        "                  Temp=np.multiply(r2,(gBest-LeaderPos[i,:]))-gBest         \n",
        "   \n",
        "\n",
        "                \n",
        "                if  Temp[0].size == 1:\n",
        "                  temp =  Temp\n",
        "                else:\n",
        "                  temp =   Temp[0]\n",
        "                Tp=temp>ub\n",
        "                Tm=temp<lb\n",
        "                Temp=np.multiply(temp,(~(Tp+Tm)))+np.multiply(ub,Tp)+np.multiply(lb,Tm)\n",
        "                TempFit=fobj(Temp)\n",
        "                  # Update the location of Leader\n",
        "                if gBestScore>TempFit:\n",
        "                  LeaderFit[0,i]=gBestScore\n",
        "                  LeaderPos[i,:]=gBest\n",
        "                  gBestScore=TempFit\n",
        "                  gBest=Temp\n",
        "\n",
        "\n",
        "    Convergence_curve[l]=gBestScore\n",
        "\n",
        "\n",
        "    return Convergence_curve,gBest,gBestScore\n"
      ]
    },
    {
      "cell_type": "code",
      "source": [
        "'''The main function '''\n",
        " # Set relevant parameters.\n",
        "time_start = time.time()\n",
        "pop = 50                    # population size.\n",
        "MaxIter = 100               # Maximum number of iterations.\n",
        "dim = 20                    # The dimension.\n",
        "fl=-100                     # The lower bound of the search interval.\n",
        "ul=100                      # The upper bound of the search interval.\n",
        "lb = fl*np.ones([1,dim])\n",
        "ub = ul*np.ones([1,dim])\n",
        "Convergence_curve,gBest,gBestScore=COOT(pop,MaxIter,fl,ul,dim,fun)\n",
        "time_end = time.time()\n",
        "print(\"The running time is: {time_end  - time_start } s\")\n",
        "print('The optimal value：',gBestScore)\n",
        "print('The optimal solution：',gBest)"
      ],
      "metadata": {
        "id": "EcSXBYB96ZIa",
        "outputId": "4db9cf60-8c13-4d11-c95a-8b7d9d1df744",
        "colab": {
          "base_uri": "https://localhost:8080/"
        }
      },
      "execution_count": 4,
      "outputs": [
        {
          "output_type": "stream",
          "name": "stdout",
          "text": [
            "The running time is: {time_end  - time_start } s\n",
            "The optimal value： 2.9801870675927765e-10\n",
            "The optimal solution： [ 1.11728526e-06 -4.84188220e-06  4.72326313e-06  5.19037686e-06\n",
            "  1.41764566e-06  2.85214846e-06 -7.59233402e-06 -4.16679621e-06\n",
            "  1.30422413e-06 -8.07304702e-06  2.27545525e-06 -4.56918813e-06\n",
            "  3.10677936e-06  1.15579514e-06 -2.04030686e-06 -9.75537282e-07\n",
            "  2.55952537e-06  1.52507315e-06  3.69202790e-06  2.71777752e-06]\n"
          ]
        }
      ]
    },
    {
      "cell_type": "code",
      "source": [
        "import matplotlib.pyplot as plt\n",
        "fig, ax = plt.subplots()\n",
        "ax.plot( Convergence_curve,color='firebrick', marker='o', markeredgecolor='firebrick', markerfacecolor='firebrick')\n",
        "ax.set_xlabel('Number of Iterations')\n",
        "ax.set_ylabel('Fitness')\n",
        "ax.set_title('COOT')\n",
        "ax.grid()\n",
        "plt.show()"
      ],
      "metadata": {
        "id": "bIfegQGzQgtf",
        "outputId": "f6e9b856-be8c-4fde-f8a6-0ce6382fde3b",
        "colab": {
          "base_uri": "https://localhost:8080/",
          "height": 295
        }
      },
      "execution_count": 5,
      "outputs": [
        {
          "output_type": "display_data",
          "data": {
            "text/plain": [
              "<Figure size 432x288 with 1 Axes>"
            ],
            "image/png": "[encoded data removed]"
          },
          "metadata": {
            "needs_background": "light"
          }
        }
      ]
    }
  ]
}